{
 "cells": [
  {
   "cell_type": "code",
   "execution_count": 10,
   "metadata": {
    "collapsed": true
   },
   "outputs": [],
   "source": [
    "import pandas as pd\n",
    "import numpy as np\n",
    "import matplotlib.pyplot as plt\n"
   ]
  },
  {
   "cell_type": "code",
   "execution_count": 26,
   "metadata": {},
   "outputs": [
    {
     "name": "stdout",
     "output_type": "stream",
     "text": [
      "[ 0  1  2  3  4  5  6  7 10]\n",
      "4.22222222222\n"
     ]
    }
   ],
   "source": [
    "### サンプル１：少ない数\n",
    "# 普通のPythonの配列\n",
    "data = [[1.0, 2.0, 3.0], [11.0, 12.0, 13.0]]\n",
    "\n",
    "# NumPyの多次元配列\n",
    "npdata = np.array([0,1,2,3,4,5,6,7,10])\n",
    "#npdata = np.array([1,2,3,4,5,6,10])\n",
    "print(npdata)\n",
    "print(npdata.mean())"
   ]
  },
  {
   "cell_type": "code",
   "execution_count": 24,
   "metadata": {
    "scrolled": true
   },
   "outputs": [
    {
     "name": "stdout",
     "output_type": "stream",
     "text": [
      "[-1.   -0.75 -0.5  -0.25  0.    0.25  0.5   0.75  1.5 ]\n"
     ]
    },
    {
     "name": "stderr",
     "output_type": "stream",
     "text": [
      "C:\\dev\\Anaconda3\\lib\\site-packages\\sklearn\\preprocessing\\data.py:986: DeprecationWarning: Passing 1d arrays as data is deprecated in 0.17 and will raise ValueError in 0.19. Reshape your data either using X.reshape(-1, 1) if your data has a single feature or X.reshape(1, -1) if it contains a single sample.\n",
      "  warnings.warn(DEPRECATION_MSG_1D, DeprecationWarning)\n",
      "C:\\dev\\Anaconda3\\lib\\site-packages\\sklearn\\preprocessing\\data.py:1008: DeprecationWarning: Passing 1d arrays as data is deprecated in 0.17 and will raise ValueError in 0.19. Reshape your data either using X.reshape(-1, 1) if your data has a single feature or X.reshape(1, -1) if it contains a single sample.\n",
      "  warnings.warn(DEPRECATION_MSG_1D, DeprecationWarning)\n",
      "C:\\dev\\Anaconda3\\lib\\site-packages\\sklearn\\preprocessing\\data.py:986: DeprecationWarning: Passing 1d arrays as data is deprecated in 0.17 and will raise ValueError in 0.19. Reshape your data either using X.reshape(-1, 1) if your data has a single feature or X.reshape(1, -1) if it contains a single sample.\n",
      "  warnings.warn(DEPRECATION_MSG_1D, DeprecationWarning)\n",
      "C:\\dev\\Anaconda3\\lib\\site-packages\\sklearn\\preprocessing\\data.py:1037: DeprecationWarning: Passing 1d arrays as data is deprecated in 0.17 and will raise ValueError in 0.19. Reshape your data either using X.reshape(-1, 1) if your data has a single feature or X.reshape(1, -1) if it contains a single sample.\n",
      "  warnings.warn(DEPRECATION_MSG_1D, DeprecationWarning)\n"
     ]
    }
   ],
   "source": [
    "# RobustScaler\n",
    "from sklearn.preprocessing import RobustScaler\n",
    "\n",
    "scaler = RobustScaler()\n",
    "scaled1 = scaler.fit_transform(npdata)\n",
    "print(scaled1)"
   ]
  },
  {
   "cell_type": "code",
   "execution_count": 25,
   "metadata": {},
   "outputs": [
    {
     "name": "stdout",
     "output_type": "stream",
     "text": [
      "[-1.42012668 -1.08378088 -0.74743509 -0.4110893  -0.07474351  0.26160228\n",
      "  0.59794807  0.93429387  1.94333124]\n"
     ]
    },
    {
     "name": "stderr",
     "output_type": "stream",
     "text": [
      "C:\\dev\\Anaconda3\\lib\\site-packages\\sklearn\\utils\\validation.py:429: DataConversionWarning: Data with input dtype int32 was converted to float64 by StandardScaler.\n",
      "  warnings.warn(msg, _DataConversionWarning)\n",
      "C:\\dev\\Anaconda3\\lib\\site-packages\\sklearn\\preprocessing\\data.py:586: DeprecationWarning: Passing 1d arrays as data is deprecated in 0.17 and will raise ValueError in 0.19. Reshape your data either using X.reshape(-1, 1) if your data has a single feature or X.reshape(1, -1) if it contains a single sample.\n",
      "  warnings.warn(DEPRECATION_MSG_1D, DeprecationWarning)\n",
      "C:\\dev\\Anaconda3\\lib\\site-packages\\sklearn\\preprocessing\\data.py:649: DeprecationWarning: Passing 1d arrays as data is deprecated in 0.17 and will raise ValueError in 0.19. Reshape your data either using X.reshape(-1, 1) if your data has a single feature or X.reshape(1, -1) if it contains a single sample.\n",
      "  warnings.warn(DEPRECATION_MSG_1D, DeprecationWarning)\n"
     ]
    }
   ],
   "source": [
    "# StandardScaler\n",
    "from sklearn.preprocessing import StandardScaler\n",
    "\n",
    "scaler = StandardScaler()\n",
    "scaled2 = scaler.fit_transform(npdata)\n",
    "print(scaled2)"
   ]
  },
  {
   "cell_type": "code",
   "execution_count": 17,
   "metadata": {},
   "outputs": [
    {
     "name": "stdout",
     "output_type": "stream",
     "text": [
      "[    0     1     2     3     4     5     6     7     8     9    10    11\n",
      "    12    13    14    15    16    17    18    19    20    21    22    23\n",
      "    24    25    26    27    28    29    30    31    32    33    34    35\n",
      "    36    37    38    39    40    41    42    43    44    45    46    47\n",
      "    48    49    50    51    52    53    54    55    56    57    58    59\n",
      "    60    61    62    63    64    65    66    67    68    69    70    71\n",
      "    72    73    74    75    76    77    78    79    80    81    82    83\n",
      "    84    85    86    87    88    89    90    91    92    93    94    95\n",
      "    96    97    98    99   100 10000]\n",
      "9900\n",
      "147.549019608\n"
     ]
    }
   ],
   "source": [
    "### サンプル２：多い数\n",
    "\n",
    "npdata = np.arange(0, 102, 1)\n",
    "npdata[101]=10000\n",
    "print(npdata)\n",
    "\n",
    "# この差に注目\n",
    "print(npdata[101]-npdata[100])\n",
    "\n",
    "print(npdata.mean())"
   ]
  },
  {
   "cell_type": "code",
   "execution_count": 12,
   "metadata": {},
   "outputs": [
    {
     "name": "stdout",
     "output_type": "stream",
     "text": [
      "[ -1.00000000e+00  -9.80198020e-01  -9.60396040e-01  -9.40594059e-01\n",
      "  -9.20792079e-01  -9.00990099e-01  -8.81188119e-01  -8.61386139e-01\n",
      "  -8.41584158e-01  -8.21782178e-01  -8.01980198e-01  -7.82178218e-01\n",
      "  -7.62376238e-01  -7.42574257e-01  -7.22772277e-01  -7.02970297e-01\n",
      "  -6.83168317e-01  -6.63366337e-01  -6.43564356e-01  -6.23762376e-01\n",
      "  -6.03960396e-01  -5.84158416e-01  -5.64356436e-01  -5.44554455e-01\n",
      "  -5.24752475e-01  -5.04950495e-01  -4.85148515e-01  -4.65346535e-01\n",
      "  -4.45544554e-01  -4.25742574e-01  -4.05940594e-01  -3.86138614e-01\n",
      "  -3.66336634e-01  -3.46534653e-01  -3.26732673e-01  -3.06930693e-01\n",
      "  -2.87128713e-01  -2.67326733e-01  -2.47524752e-01  -2.27722772e-01\n",
      "  -2.07920792e-01  -1.88118812e-01  -1.68316832e-01  -1.48514851e-01\n",
      "  -1.28712871e-01  -1.08910891e-01  -8.91089109e-02  -6.93069307e-02\n",
      "  -4.95049505e-02  -2.97029703e-02  -9.90099010e-03   9.90099010e-03\n",
      "   2.97029703e-02   4.95049505e-02   6.93069307e-02   8.91089109e-02\n",
      "   1.08910891e-01   1.28712871e-01   1.48514851e-01   1.68316832e-01\n",
      "   1.88118812e-01   2.07920792e-01   2.27722772e-01   2.47524752e-01\n",
      "   2.67326733e-01   2.87128713e-01   3.06930693e-01   3.26732673e-01\n",
      "   3.46534653e-01   3.66336634e-01   3.86138614e-01   4.05940594e-01\n",
      "   4.25742574e-01   4.45544554e-01   4.65346535e-01   4.85148515e-01\n",
      "   5.04950495e-01   5.24752475e-01   5.44554455e-01   5.64356436e-01\n",
      "   5.84158416e-01   6.03960396e-01   6.23762376e-01   6.43564356e-01\n",
      "   6.63366337e-01   6.83168317e-01   7.02970297e-01   7.22772277e-01\n",
      "   7.42574257e-01   7.62376238e-01   7.82178218e-01   8.01980198e-01\n",
      "   8.21782178e-01   8.41584158e-01   8.61386139e-01   8.81188119e-01\n",
      "   9.00990099e-01   9.20792079e-01   9.40594059e-01   9.60396040e-01\n",
      "   9.80198020e-01   1.97019802e+02]\n",
      "196.03960396\n",
      "1.92176276451\n",
      "-195.098039216\n",
      "0.0\n",
      "-197.01980198\n"
     ]
    },
    {
     "name": "stderr",
     "output_type": "stream",
     "text": [
      "C:\\dev\\Anaconda3\\lib\\site-packages\\sklearn\\preprocessing\\data.py:986: DeprecationWarning: Passing 1d arrays as data is deprecated in 0.17 and will raise ValueError in 0.19. Reshape your data either using X.reshape(-1, 1) if your data has a single feature or X.reshape(1, -1) if it contains a single sample.\n",
      "  warnings.warn(DEPRECATION_MSG_1D, DeprecationWarning)\n",
      "C:\\dev\\Anaconda3\\lib\\site-packages\\sklearn\\preprocessing\\data.py:1008: DeprecationWarning: Passing 1d arrays as data is deprecated in 0.17 and will raise ValueError in 0.19. Reshape your data either using X.reshape(-1, 1) if your data has a single feature or X.reshape(1, -1) if it contains a single sample.\n",
      "  warnings.warn(DEPRECATION_MSG_1D, DeprecationWarning)\n",
      "C:\\dev\\Anaconda3\\lib\\site-packages\\sklearn\\preprocessing\\data.py:986: DeprecationWarning: Passing 1d arrays as data is deprecated in 0.17 and will raise ValueError in 0.19. Reshape your data either using X.reshape(-1, 1) if your data has a single feature or X.reshape(1, -1) if it contains a single sample.\n",
      "  warnings.warn(DEPRECATION_MSG_1D, DeprecationWarning)\n",
      "C:\\dev\\Anaconda3\\lib\\site-packages\\sklearn\\preprocessing\\data.py:1037: DeprecationWarning: Passing 1d arrays as data is deprecated in 0.17 and will raise ValueError in 0.19. Reshape your data either using X.reshape(-1, 1) if your data has a single feature or X.reshape(1, -1) if it contains a single sample.\n",
      "  warnings.warn(DEPRECATION_MSG_1D, DeprecationWarning)\n"
     ]
    }
   ],
   "source": [
    "# RobustScaler\n",
    "from sklearn.preprocessing import RobustScaler\n",
    "\n",
    "scaler = RobustScaler()\n",
    "scaled1 = scaler.fit_transform(npdata)\n",
    "print(scaled1)\n",
    "\n",
    "# この差に注目\n",
    "print(scaled1[101]-scaled1[100])\n",
    "\n",
    "#おまけ\n",
    "print(scaled1.mean())\n",
    "print(scaled1.mean()-scaled1[101])\n",
    "print(np.median(scaled1))\n",
    "print(np.median(scaled1)-scaled1[101])\n"
   ]
  },
  {
   "cell_type": "code",
   "execution_count": 13,
   "metadata": {},
   "outputs": [
    {
     "name": "stdout",
     "output_type": "stream",
     "text": [
      "[ -0.15043977  -0.14942018  -0.14840058  -0.14738099  -0.1463614\n",
      "  -0.14534181  -0.14432222  -0.14330262  -0.14228303  -0.14126344\n",
      "  -0.14024385  -0.13922426  -0.13820467  -0.13718507  -0.13616548\n",
      "  -0.13514589  -0.1341263   -0.13310671  -0.13208711  -0.13106752\n",
      "  -0.13004793  -0.12902834  -0.12800875  -0.12698916  -0.12596956\n",
      "  -0.12494997  -0.12393038  -0.12291079  -0.1218912   -0.12087161\n",
      "  -0.11985201  -0.11883242  -0.11781283  -0.11679324  -0.11577365\n",
      "  -0.11475405  -0.11373446  -0.11271487  -0.11169528  -0.11067569\n",
      "  -0.1096561   -0.1086365   -0.10761691  -0.10659732  -0.10557773\n",
      "  -0.10455814  -0.10353855  -0.10251895  -0.10149936  -0.10047977\n",
      "  -0.09946018  -0.09844059  -0.09742099  -0.0964014   -0.09538181\n",
      "  -0.09436222  -0.09334263  -0.09232304  -0.09130344  -0.09028385\n",
      "  -0.08926426  -0.08824467  -0.08722508  -0.08620549  -0.08518589\n",
      "  -0.0841663   -0.08314671  -0.08212712  -0.08110753  -0.08008793\n",
      "  -0.07906834  -0.07804875  -0.07702916  -0.07600957  -0.07498998\n",
      "  -0.07397038  -0.07295079  -0.0719312   -0.07091161  -0.06989202\n",
      "  -0.06887242  -0.06785283  -0.06683324  -0.06581365  -0.06479406\n",
      "  -0.06377447  -0.06275487  -0.06173528  -0.06071569  -0.0596961\n",
      "  -0.05867651  -0.05765692  -0.05663732  -0.05561773  -0.05459814\n",
      "  -0.05357855  -0.05255896  -0.05153936  -0.05051977  -0.04950018\n",
      "  -0.04848059  10.04547799]\n",
      "10.0939585824\n",
      "0.0\n",
      "-10.045477993\n",
      "-0.098950382261\n",
      "-10.1444283753\n"
     ]
    },
    {
     "name": "stderr",
     "output_type": "stream",
     "text": [
      "C:\\dev\\Anaconda3\\lib\\site-packages\\sklearn\\utils\\validation.py:429: DataConversionWarning: Data with input dtype int32 was converted to float64 by StandardScaler.\n",
      "  warnings.warn(msg, _DataConversionWarning)\n",
      "C:\\dev\\Anaconda3\\lib\\site-packages\\sklearn\\preprocessing\\data.py:586: DeprecationWarning: Passing 1d arrays as data is deprecated in 0.17 and will raise ValueError in 0.19. Reshape your data either using X.reshape(-1, 1) if your data has a single feature or X.reshape(1, -1) if it contains a single sample.\n",
      "  warnings.warn(DEPRECATION_MSG_1D, DeprecationWarning)\n",
      "C:\\dev\\Anaconda3\\lib\\site-packages\\sklearn\\preprocessing\\data.py:649: DeprecationWarning: Passing 1d arrays as data is deprecated in 0.17 and will raise ValueError in 0.19. Reshape your data either using X.reshape(-1, 1) if your data has a single feature or X.reshape(1, -1) if it contains a single sample.\n",
      "  warnings.warn(DEPRECATION_MSG_1D, DeprecationWarning)\n"
     ]
    }
   ],
   "source": [
    "# StandardScaler\n",
    "from sklearn.preprocessing import StandardScaler\n",
    "\n",
    "scaler = StandardScaler()\n",
    "scaled2 = scaler.fit_transform(npdata)\n",
    "print(scaled2)\n",
    "\n",
    "# この差に注目\n",
    "print(scaled2[101]-scaled2[100])\n",
    "\n",
    "#おまけ\n",
    "print(scaled2.mean())\n",
    "print(scaled2.mean()-scaled2[101])\n",
    "print(np.median(scaled2))\n",
    "print(np.median(scaled2)-scaled2[101])"
   ]
  },
  {
   "cell_type": "code",
   "execution_count": null,
   "metadata": {
    "collapsed": true
   },
   "outputs": [],
   "source": []
  }
 ],
 "metadata": {
  "kernelspec": {
   "display_name": "Python 3",
   "language": "python",
   "name": "python3"
  },
  "language_info": {
   "codemirror_mode": {
    "name": "ipython",
    "version": 3
   },
   "file_extension": ".py",
   "mimetype": "text/x-python",
   "name": "python",
   "nbconvert_exporter": "python",
   "pygments_lexer": "ipython3",
   "version": "3.6.1"
  }
 },
 "nbformat": 4,
 "nbformat_minor": 2
}
